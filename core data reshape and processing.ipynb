{
 "cells": [
  {
   "cell_type": "code",
   "execution_count": 3,
   "metadata": {},
   "outputs": [],
   "source": [
    "import pandas as pd\n",
    "import numpy as np\n",
    "import matplotlib.pyplot as plt\n",
    "import sklearn as sk\n",
    "import pickle"
   ]
  },
  {
   "cell_type": "code",
   "execution_count": 72,
   "metadata": {},
   "outputs": [],
   "source": [
    "# create list of mETRO and not MICRO politan SAs\n",
    "reference_table = pd.read_csv(\"./cbsa-state-mapping.csv\", sep=\";\")\n",
    "reference_table['CBSA Code'] = reference_table['CBSA Code'].astype(int) / 10\n",
    "reference_table['CBSA Code'] = ('C' + reference_table['CBSA Code'].astype(int).astype(str))\n",
    "relevant_MSAs = reference_table[reference_table['Metropolitan/Micropolitan Statistical Area'].\n",
    "                                str.contains(\"Metropolitan\")]['CBSA Code']\n",
    "# don't consider micropolitan areas\n",
    "relevant_MSAs = relevant_MSAs.drop_duplicates().tolist()"
   ]
  },
  {
   "cell_type": "code",
   "execution_count": 4,
   "metadata": {},
   "outputs": [],
   "source": [
    "treated_msas = ['C4194', 'C4266', 'C4162', 'C4174', 'C1450', 'C3070', 'C2642', 'C1698', 'C1658', 'C1146', 'C3830', 'C2706', 'C1206', 'C4790', 'C1446', 'C4594']\n",
    "\n",
    "outcomes_to_test = ['lq_annual_avg_estabs', 'lq_annual_avg_emplvl',\n",
    "       'lq_avg_annual_pay', 'annual_avg_estabs', 'annual_avg_emplvl', 'avg_annual_pay']\n",
    "\n",
    "industries_to_test = ['51', '511', '512', '515', '516', '517', '518', '519']"
   ]
  },
  {
   "cell_type": "code",
   "execution_count": 5,
   "metadata": {},
   "outputs": [],
   "source": [
    "# SET UP CBSA REFERENCE TABLE\n",
    "reference_table = pd.read_csv(\"./cbsa-state-mapping.csv\", sep=\";\")\n",
    "reference_table['CBSA Code'] = reference_table['CBSA Code'].astype(int) / 10\n",
    "reference_table['CBSA Code'] = ('C' + reference_table['CBSA Code'].astype(int).astype(str))\n",
    "reference_table['area_fips'] = reference_table['CBSA Code']\n",
    "reference_table['state'] = reference_table['State Name']\n",
    "reference_table = reference_table[['area_fips', 'State Name']].drop_duplicates()"
   ]
  },
  {
   "cell_type": "code",
   "execution_count": 7,
   "metadata": {},
   "outputs": [
    {
     "name": "stdout",
     "output_type": "stream",
     "text": [
      "51\n"
     ]
    },
    {
     "name": "stderr",
     "output_type": "stream",
     "text": [
      "/Users/gaoag/.virtualenvs/machinelearning/lib/python3.6/site-packages/ipykernel_launcher.py:10: UserWarning: This pattern has match groups. To actually get the groups, use str.extract.\n",
      "  # Remove the CWD from sys.path while we load stuff.\n",
      "/Users/gaoag/.virtualenvs/machinelearning/lib/python3.6/site-packages/IPython/core/interactiveshell.py:3049: DtypeWarning: Columns (0,15,23) have mixed types. Specify dtype option on import or set low_memory=False.\n",
      "  interactivity=interactivity, compiler=compiler, result=result)\n",
      "/Users/gaoag/.virtualenvs/machinelearning/lib/python3.6/site-packages/IPython/core/interactiveshell.py:3049: DtypeWarning: Columns (0) have mixed types. Specify dtype option on import or set low_memory=False.\n",
      "  interactivity=interactivity, compiler=compiler, result=result)\n",
      "/Users/gaoag/.virtualenvs/machinelearning/lib/python3.6/site-packages/IPython/core/interactiveshell.py:3049: DtypeWarning: Columns (0,7,15,23) have mixed types. Specify dtype option on import or set low_memory=False.\n",
      "  interactivity=interactivity, compiler=compiler, result=result)\n"
     ]
    },
    {
     "name": "stdout",
     "output_type": "stream",
     "text": [
      "511\n"
     ]
    },
    {
     "name": "stderr",
     "output_type": "stream",
     "text": [
      "/Users/gaoag/.virtualenvs/machinelearning/lib/python3.6/site-packages/IPython/core/interactiveshell.py:3049: DtypeWarning: Columns (0,15) have mixed types. Specify dtype option on import or set low_memory=False.\n",
      "  interactivity=interactivity, compiler=compiler, result=result)\n",
      "/Users/gaoag/.virtualenvs/machinelearning/lib/python3.6/site-packages/ipykernel_launcher.py:10: UserWarning: This pattern has match groups. To actually get the groups, use str.extract.\n",
      "  # Remove the CWD from sys.path while we load stuff.\n",
      "/Users/gaoag/.virtualenvs/machinelearning/lib/python3.6/site-packages/IPython/core/interactiveshell.py:3049: DtypeWarning: Columns (0,15,23) have mixed types. Specify dtype option on import or set low_memory=False.\n",
      "  interactivity=interactivity, compiler=compiler, result=result)\n",
      "/Users/gaoag/.virtualenvs/machinelearning/lib/python3.6/site-packages/IPython/core/interactiveshell.py:3049: DtypeWarning: Columns (0) have mixed types. Specify dtype option on import or set low_memory=False.\n",
      "  interactivity=interactivity, compiler=compiler, result=result)\n",
      "/Users/gaoag/.virtualenvs/machinelearning/lib/python3.6/site-packages/IPython/core/interactiveshell.py:3049: DtypeWarning: Columns (0,7,15,23) have mixed types. Specify dtype option on import or set low_memory=False.\n",
      "  interactivity=interactivity, compiler=compiler, result=result)\n"
     ]
    },
    {
     "name": "stdout",
     "output_type": "stream",
     "text": [
      "512\n"
     ]
    },
    {
     "name": "stderr",
     "output_type": "stream",
     "text": [
      "/Users/gaoag/.virtualenvs/machinelearning/lib/python3.6/site-packages/IPython/core/interactiveshell.py:3049: DtypeWarning: Columns (0,15) have mixed types. Specify dtype option on import or set low_memory=False.\n",
      "  interactivity=interactivity, compiler=compiler, result=result)\n",
      "/Users/gaoag/.virtualenvs/machinelearning/lib/python3.6/site-packages/ipykernel_launcher.py:10: UserWarning: This pattern has match groups. To actually get the groups, use str.extract.\n",
      "  # Remove the CWD from sys.path while we load stuff.\n",
      "/Users/gaoag/.virtualenvs/machinelearning/lib/python3.6/site-packages/IPython/core/interactiveshell.py:3049: DtypeWarning: Columns (0,15,23) have mixed types. Specify dtype option on import or set low_memory=False.\n",
      "  interactivity=interactivity, compiler=compiler, result=result)\n",
      "/Users/gaoag/.virtualenvs/machinelearning/lib/python3.6/site-packages/IPython/core/interactiveshell.py:3049: DtypeWarning: Columns (0) have mixed types. Specify dtype option on import or set low_memory=False.\n",
      "  interactivity=interactivity, compiler=compiler, result=result)\n",
      "/Users/gaoag/.virtualenvs/machinelearning/lib/python3.6/site-packages/IPython/core/interactiveshell.py:3049: DtypeWarning: Columns (0,7,15,23) have mixed types. Specify dtype option on import or set low_memory=False.\n",
      "  interactivity=interactivity, compiler=compiler, result=result)\n"
     ]
    },
    {
     "name": "stdout",
     "output_type": "stream",
     "text": [
      "515\n"
     ]
    },
    {
     "name": "stderr",
     "output_type": "stream",
     "text": [
      "/Users/gaoag/.virtualenvs/machinelearning/lib/python3.6/site-packages/IPython/core/interactiveshell.py:3049: DtypeWarning: Columns (0,15) have mixed types. Specify dtype option on import or set low_memory=False.\n",
      "  interactivity=interactivity, compiler=compiler, result=result)\n",
      "/Users/gaoag/.virtualenvs/machinelearning/lib/python3.6/site-packages/ipykernel_launcher.py:10: UserWarning: This pattern has match groups. To actually get the groups, use str.extract.\n",
      "  # Remove the CWD from sys.path while we load stuff.\n",
      "/Users/gaoag/.virtualenvs/machinelearning/lib/python3.6/site-packages/IPython/core/interactiveshell.py:3049: DtypeWarning: Columns (0,15,23) have mixed types. Specify dtype option on import or set low_memory=False.\n",
      "  interactivity=interactivity, compiler=compiler, result=result)\n",
      "/Users/gaoag/.virtualenvs/machinelearning/lib/python3.6/site-packages/IPython/core/interactiveshell.py:3049: DtypeWarning: Columns (0) have mixed types. Specify dtype option on import or set low_memory=False.\n",
      "  interactivity=interactivity, compiler=compiler, result=result)\n",
      "/Users/gaoag/.virtualenvs/machinelearning/lib/python3.6/site-packages/IPython/core/interactiveshell.py:3049: DtypeWarning: Columns (0,7,15,23) have mixed types. Specify dtype option on import or set low_memory=False.\n",
      "  interactivity=interactivity, compiler=compiler, result=result)\n"
     ]
    },
    {
     "name": "stdout",
     "output_type": "stream",
     "text": [
      "516\n"
     ]
    },
    {
     "name": "stderr",
     "output_type": "stream",
     "text": [
      "/Users/gaoag/.virtualenvs/machinelearning/lib/python3.6/site-packages/IPython/core/interactiveshell.py:3049: DtypeWarning: Columns (0,15) have mixed types. Specify dtype option on import or set low_memory=False.\n",
      "  interactivity=interactivity, compiler=compiler, result=result)\n",
      "/Users/gaoag/.virtualenvs/machinelearning/lib/python3.6/site-packages/ipykernel_launcher.py:10: UserWarning: This pattern has match groups. To actually get the groups, use str.extract.\n",
      "  # Remove the CWD from sys.path while we load stuff.\n",
      "/Users/gaoag/.virtualenvs/machinelearning/lib/python3.6/site-packages/IPython/core/interactiveshell.py:3049: DtypeWarning: Columns (0,15,23) have mixed types. Specify dtype option on import or set low_memory=False.\n",
      "  interactivity=interactivity, compiler=compiler, result=result)\n",
      "/Users/gaoag/.virtualenvs/machinelearning/lib/python3.6/site-packages/IPython/core/interactiveshell.py:3049: DtypeWarning: Columns (0) have mixed types. Specify dtype option on import or set low_memory=False.\n",
      "  interactivity=interactivity, compiler=compiler, result=result)\n",
      "/Users/gaoag/.virtualenvs/machinelearning/lib/python3.6/site-packages/IPython/core/interactiveshell.py:3049: DtypeWarning: Columns (0,7,15,23) have mixed types. Specify dtype option on import or set low_memory=False.\n",
      "  interactivity=interactivity, compiler=compiler, result=result)\n"
     ]
    },
    {
     "name": "stdout",
     "output_type": "stream",
     "text": [
      "517\n"
     ]
    },
    {
     "name": "stderr",
     "output_type": "stream",
     "text": [
      "/Users/gaoag/.virtualenvs/machinelearning/lib/python3.6/site-packages/IPython/core/interactiveshell.py:3049: DtypeWarning: Columns (0,15) have mixed types. Specify dtype option on import or set low_memory=False.\n",
      "  interactivity=interactivity, compiler=compiler, result=result)\n",
      "/Users/gaoag/.virtualenvs/machinelearning/lib/python3.6/site-packages/ipykernel_launcher.py:10: UserWarning: This pattern has match groups. To actually get the groups, use str.extract.\n",
      "  # Remove the CWD from sys.path while we load stuff.\n",
      "/Users/gaoag/.virtualenvs/machinelearning/lib/python3.6/site-packages/IPython/core/interactiveshell.py:3049: DtypeWarning: Columns (0,15,23) have mixed types. Specify dtype option on import or set low_memory=False.\n",
      "  interactivity=interactivity, compiler=compiler, result=result)\n",
      "/Users/gaoag/.virtualenvs/machinelearning/lib/python3.6/site-packages/IPython/core/interactiveshell.py:3049: DtypeWarning: Columns (0) have mixed types. Specify dtype option on import or set low_memory=False.\n",
      "  interactivity=interactivity, compiler=compiler, result=result)\n",
      "/Users/gaoag/.virtualenvs/machinelearning/lib/python3.6/site-packages/IPython/core/interactiveshell.py:3049: DtypeWarning: Columns (0,7,15,23) have mixed types. Specify dtype option on import or set low_memory=False.\n",
      "  interactivity=interactivity, compiler=compiler, result=result)\n"
     ]
    },
    {
     "name": "stdout",
     "output_type": "stream",
     "text": [
      "518\n"
     ]
    },
    {
     "name": "stderr",
     "output_type": "stream",
     "text": [
      "/Users/gaoag/.virtualenvs/machinelearning/lib/python3.6/site-packages/IPython/core/interactiveshell.py:3049: DtypeWarning: Columns (0,15) have mixed types. Specify dtype option on import or set low_memory=False.\n",
      "  interactivity=interactivity, compiler=compiler, result=result)\n",
      "/Users/gaoag/.virtualenvs/machinelearning/lib/python3.6/site-packages/ipykernel_launcher.py:10: UserWarning: This pattern has match groups. To actually get the groups, use str.extract.\n",
      "  # Remove the CWD from sys.path while we load stuff.\n",
      "/Users/gaoag/.virtualenvs/machinelearning/lib/python3.6/site-packages/IPython/core/interactiveshell.py:3049: DtypeWarning: Columns (0,15,23) have mixed types. Specify dtype option on import or set low_memory=False.\n",
      "  interactivity=interactivity, compiler=compiler, result=result)\n",
      "/Users/gaoag/.virtualenvs/machinelearning/lib/python3.6/site-packages/IPython/core/interactiveshell.py:3049: DtypeWarning: Columns (0) have mixed types. Specify dtype option on import or set low_memory=False.\n",
      "  interactivity=interactivity, compiler=compiler, result=result)\n",
      "/Users/gaoag/.virtualenvs/machinelearning/lib/python3.6/site-packages/IPython/core/interactiveshell.py:3049: DtypeWarning: Columns (0,7,15,23) have mixed types. Specify dtype option on import or set low_memory=False.\n",
      "  interactivity=interactivity, compiler=compiler, result=result)\n"
     ]
    },
    {
     "name": "stdout",
     "output_type": "stream",
     "text": [
      "519\n"
     ]
    },
    {
     "name": "stderr",
     "output_type": "stream",
     "text": [
      "/Users/gaoag/.virtualenvs/machinelearning/lib/python3.6/site-packages/IPython/core/interactiveshell.py:3049: DtypeWarning: Columns (0,15) have mixed types. Specify dtype option on import or set low_memory=False.\n",
      "  interactivity=interactivity, compiler=compiler, result=result)\n",
      "/Users/gaoag/.virtualenvs/machinelearning/lib/python3.6/site-packages/ipykernel_launcher.py:10: UserWarning: This pattern has match groups. To actually get the groups, use str.extract.\n",
      "  # Remove the CWD from sys.path while we load stuff.\n",
      "/Users/gaoag/.virtualenvs/machinelearning/lib/python3.6/site-packages/IPython/core/interactiveshell.py:3049: DtypeWarning: Columns (0,15,23) have mixed types. Specify dtype option on import or set low_memory=False.\n",
      "  interactivity=interactivity, compiler=compiler, result=result)\n",
      "/Users/gaoag/.virtualenvs/machinelearning/lib/python3.6/site-packages/IPython/core/interactiveshell.py:3049: DtypeWarning: Columns (0) have mixed types. Specify dtype option on import or set low_memory=False.\n",
      "  interactivity=interactivity, compiler=compiler, result=result)\n",
      "/Users/gaoag/.virtualenvs/machinelearning/lib/python3.6/site-packages/IPython/core/interactiveshell.py:3049: DtypeWarning: Columns (0,7,15,23) have mixed types. Specify dtype option on import or set low_memory=False.\n",
      "  interactivity=interactivity, compiler=compiler, result=result)\n"
     ]
    }
   ],
   "source": [
    "# COMPILE RELEVANT INDUSTRY OUTCOMES AND PUT INTO A PANEL DATA FORMAT\n",
    "\n",
    "for industry in industries_to_test:\n",
    "    dfs = []\n",
    "    print(industry)\n",
    "    for year in range(1990, 2019):\n",
    "        df = pd.read_csv('./original_data/' + str(year) + '.annual.singlefile.csv')\n",
    "        df = df[['area_fips', 'industry_code', 'lq_annual_avg_estabs', 'lq_annual_avg_emplvl',\n",
    "           'lq_avg_annual_pay', 'annual_avg_estabs', 'annual_avg_emplvl', 'avg_annual_pay']]\n",
    "        df = df[df['area_fips'].astype(str).str.contains(pat=\"([C][0-9][0-9][0-9][0-9])\", regex=True, na=False)]\n",
    "        df = df[df['industry_code'].astype(str).str.contains(pat=\"^\" + industry + \"$\", regex=True, na=False)]\n",
    "        df['year'] = year\n",
    "        dfs.append(df)\n",
    "    master_df = pd.concat(dfs, axis=0)\n",
    "\n",
    "    # now, need to groupby the year+area_fips and sort by year\n",
    "    group = master_df.sort_values(['year'],ascending=True).groupby(['area_fips', 'year'])\n",
    "    master_df = group.agg({'lq_annual_avg_estabs':sum, 'lq_annual_avg_emplvl':sum, 'lq_avg_annual_pay':sum,\n",
    "                           'annual_avg_estabs':sum, 'annual_avg_emplvl':sum, 'avg_annual_pay':sum}).reset_index()\n",
    "    \n",
    "    # add on the state that the MSA is in\n",
    "    merged = pd.merge(master_df, reference_table, how='left', on=\"area_fips\")\n",
    "    merged.to_csv(\"panel_\" + industry + \"_msa.csv\")"
   ]
  },
  {
   "cell_type": "code",
   "execution_count": 8,
   "metadata": {},
   "outputs": [],
   "source": [
    "county_ref_table = pd.read_csv(\"./R_Files/county_latlongs.csv\")"
   ]
  },
  {
   "cell_type": "code",
   "execution_count": 11,
   "metadata": {},
   "outputs": [],
   "source": [
    "county_ref_table['area_fips'] = county_ref_table['fips'] \n",
    "county_ref_table = county_ref_table[['area_fips', 'state']]"
   ]
  },
  {
   "cell_type": "code",
   "execution_count": 12,
   "metadata": {},
   "outputs": [
    {
     "name": "stdout",
     "output_type": "stream",
     "text": [
      "51\n"
     ]
    },
    {
     "name": "stderr",
     "output_type": "stream",
     "text": [
      "/Users/gaoag/.virtualenvs/machinelearning/lib/python3.6/site-packages/IPython/core/interactiveshell.py:3049: DtypeWarning: Columns (0,15) have mixed types. Specify dtype option on import or set low_memory=False.\n",
      "  interactivity=interactivity, compiler=compiler, result=result)\n",
      "/Users/gaoag/.virtualenvs/machinelearning/lib/python3.6/site-packages/IPython/core/interactiveshell.py:3049: DtypeWarning: Columns (0,15,23) have mixed types. Specify dtype option on import or set low_memory=False.\n",
      "  interactivity=interactivity, compiler=compiler, result=result)\n",
      "/Users/gaoag/.virtualenvs/machinelearning/lib/python3.6/site-packages/IPython/core/interactiveshell.py:3049: DtypeWarning: Columns (0) have mixed types. Specify dtype option on import or set low_memory=False.\n",
      "  interactivity=interactivity, compiler=compiler, result=result)\n",
      "/Users/gaoag/.virtualenvs/machinelearning/lib/python3.6/site-packages/IPython/core/interactiveshell.py:3049: DtypeWarning: Columns (0,7,15,23) have mixed types. Specify dtype option on import or set low_memory=False.\n",
      "  interactivity=interactivity, compiler=compiler, result=result)\n"
     ]
    },
    {
     "name": "stdout",
     "output_type": "stream",
     "text": [
      "511\n"
     ]
    },
    {
     "name": "stderr",
     "output_type": "stream",
     "text": [
      "/Users/gaoag/.virtualenvs/machinelearning/lib/python3.6/site-packages/IPython/core/interactiveshell.py:3049: DtypeWarning: Columns (0,15) have mixed types. Specify dtype option on import or set low_memory=False.\n",
      "  interactivity=interactivity, compiler=compiler, result=result)\n",
      "/Users/gaoag/.virtualenvs/machinelearning/lib/python3.6/site-packages/IPython/core/interactiveshell.py:3049: DtypeWarning: Columns (0,15,23) have mixed types. Specify dtype option on import or set low_memory=False.\n",
      "  interactivity=interactivity, compiler=compiler, result=result)\n",
      "/Users/gaoag/.virtualenvs/machinelearning/lib/python3.6/site-packages/IPython/core/interactiveshell.py:3049: DtypeWarning: Columns (0) have mixed types. Specify dtype option on import or set low_memory=False.\n",
      "  interactivity=interactivity, compiler=compiler, result=result)\n",
      "/Users/gaoag/.virtualenvs/machinelearning/lib/python3.6/site-packages/IPython/core/interactiveshell.py:3049: DtypeWarning: Columns (0,7,15,23) have mixed types. Specify dtype option on import or set low_memory=False.\n",
      "  interactivity=interactivity, compiler=compiler, result=result)\n"
     ]
    },
    {
     "name": "stdout",
     "output_type": "stream",
     "text": [
      "512\n"
     ]
    },
    {
     "name": "stderr",
     "output_type": "stream",
     "text": [
      "/Users/gaoag/.virtualenvs/machinelearning/lib/python3.6/site-packages/IPython/core/interactiveshell.py:3049: DtypeWarning: Columns (0,15) have mixed types. Specify dtype option on import or set low_memory=False.\n",
      "  interactivity=interactivity, compiler=compiler, result=result)\n",
      "/Users/gaoag/.virtualenvs/machinelearning/lib/python3.6/site-packages/IPython/core/interactiveshell.py:3049: DtypeWarning: Columns (0,15,23) have mixed types. Specify dtype option on import or set low_memory=False.\n",
      "  interactivity=interactivity, compiler=compiler, result=result)\n",
      "/Users/gaoag/.virtualenvs/machinelearning/lib/python3.6/site-packages/IPython/core/interactiveshell.py:3049: DtypeWarning: Columns (0) have mixed types. Specify dtype option on import or set low_memory=False.\n",
      "  interactivity=interactivity, compiler=compiler, result=result)\n",
      "/Users/gaoag/.virtualenvs/machinelearning/lib/python3.6/site-packages/IPython/core/interactiveshell.py:3049: DtypeWarning: Columns (0,7,15,23) have mixed types. Specify dtype option on import or set low_memory=False.\n",
      "  interactivity=interactivity, compiler=compiler, result=result)\n"
     ]
    },
    {
     "name": "stdout",
     "output_type": "stream",
     "text": [
      "515\n"
     ]
    },
    {
     "name": "stderr",
     "output_type": "stream",
     "text": [
      "/Users/gaoag/.virtualenvs/machinelearning/lib/python3.6/site-packages/IPython/core/interactiveshell.py:3049: DtypeWarning: Columns (0,15) have mixed types. Specify dtype option on import or set low_memory=False.\n",
      "  interactivity=interactivity, compiler=compiler, result=result)\n",
      "/Users/gaoag/.virtualenvs/machinelearning/lib/python3.6/site-packages/IPython/core/interactiveshell.py:3049: DtypeWarning: Columns (0,15,23) have mixed types. Specify dtype option on import or set low_memory=False.\n",
      "  interactivity=interactivity, compiler=compiler, result=result)\n",
      "/Users/gaoag/.virtualenvs/machinelearning/lib/python3.6/site-packages/IPython/core/interactiveshell.py:3049: DtypeWarning: Columns (0) have mixed types. Specify dtype option on import or set low_memory=False.\n",
      "  interactivity=interactivity, compiler=compiler, result=result)\n",
      "/Users/gaoag/.virtualenvs/machinelearning/lib/python3.6/site-packages/IPython/core/interactiveshell.py:3049: DtypeWarning: Columns (0,7,15,23) have mixed types. Specify dtype option on import or set low_memory=False.\n",
      "  interactivity=interactivity, compiler=compiler, result=result)\n"
     ]
    },
    {
     "name": "stdout",
     "output_type": "stream",
     "text": [
      "516\n"
     ]
    },
    {
     "name": "stderr",
     "output_type": "stream",
     "text": [
      "/Users/gaoag/.virtualenvs/machinelearning/lib/python3.6/site-packages/IPython/core/interactiveshell.py:3049: DtypeWarning: Columns (0,15) have mixed types. Specify dtype option on import or set low_memory=False.\n",
      "  interactivity=interactivity, compiler=compiler, result=result)\n",
      "/Users/gaoag/.virtualenvs/machinelearning/lib/python3.6/site-packages/IPython/core/interactiveshell.py:3049: DtypeWarning: Columns (0,15,23) have mixed types. Specify dtype option on import or set low_memory=False.\n",
      "  interactivity=interactivity, compiler=compiler, result=result)\n",
      "/Users/gaoag/.virtualenvs/machinelearning/lib/python3.6/site-packages/IPython/core/interactiveshell.py:3049: DtypeWarning: Columns (0) have mixed types. Specify dtype option on import or set low_memory=False.\n",
      "  interactivity=interactivity, compiler=compiler, result=result)\n",
      "/Users/gaoag/.virtualenvs/machinelearning/lib/python3.6/site-packages/IPython/core/interactiveshell.py:3049: DtypeWarning: Columns (0,7,15,23) have mixed types. Specify dtype option on import or set low_memory=False.\n",
      "  interactivity=interactivity, compiler=compiler, result=result)\n"
     ]
    },
    {
     "name": "stdout",
     "output_type": "stream",
     "text": [
      "517\n"
     ]
    },
    {
     "name": "stderr",
     "output_type": "stream",
     "text": [
      "/Users/gaoag/.virtualenvs/machinelearning/lib/python3.6/site-packages/IPython/core/interactiveshell.py:3049: DtypeWarning: Columns (0,15) have mixed types. Specify dtype option on import or set low_memory=False.\n",
      "  interactivity=interactivity, compiler=compiler, result=result)\n",
      "/Users/gaoag/.virtualenvs/machinelearning/lib/python3.6/site-packages/IPython/core/interactiveshell.py:3049: DtypeWarning: Columns (0,15,23) have mixed types. Specify dtype option on import or set low_memory=False.\n",
      "  interactivity=interactivity, compiler=compiler, result=result)\n",
      "/Users/gaoag/.virtualenvs/machinelearning/lib/python3.6/site-packages/IPython/core/interactiveshell.py:3049: DtypeWarning: Columns (0) have mixed types. Specify dtype option on import or set low_memory=False.\n",
      "  interactivity=interactivity, compiler=compiler, result=result)\n",
      "/Users/gaoag/.virtualenvs/machinelearning/lib/python3.6/site-packages/IPython/core/interactiveshell.py:3049: DtypeWarning: Columns (0,7,15,23) have mixed types. Specify dtype option on import or set low_memory=False.\n",
      "  interactivity=interactivity, compiler=compiler, result=result)\n"
     ]
    },
    {
     "name": "stdout",
     "output_type": "stream",
     "text": [
      "518\n"
     ]
    },
    {
     "name": "stderr",
     "output_type": "stream",
     "text": [
      "/Users/gaoag/.virtualenvs/machinelearning/lib/python3.6/site-packages/IPython/core/interactiveshell.py:3049: DtypeWarning: Columns (0,15) have mixed types. Specify dtype option on import or set low_memory=False.\n",
      "  interactivity=interactivity, compiler=compiler, result=result)\n",
      "/Users/gaoag/.virtualenvs/machinelearning/lib/python3.6/site-packages/IPython/core/interactiveshell.py:3049: DtypeWarning: Columns (0,15,23) have mixed types. Specify dtype option on import or set low_memory=False.\n",
      "  interactivity=interactivity, compiler=compiler, result=result)\n",
      "/Users/gaoag/.virtualenvs/machinelearning/lib/python3.6/site-packages/IPython/core/interactiveshell.py:3049: DtypeWarning: Columns (0) have mixed types. Specify dtype option on import or set low_memory=False.\n",
      "  interactivity=interactivity, compiler=compiler, result=result)\n",
      "/Users/gaoag/.virtualenvs/machinelearning/lib/python3.6/site-packages/IPython/core/interactiveshell.py:3049: DtypeWarning: Columns (0,7,15,23) have mixed types. Specify dtype option on import or set low_memory=False.\n",
      "  interactivity=interactivity, compiler=compiler, result=result)\n"
     ]
    },
    {
     "name": "stdout",
     "output_type": "stream",
     "text": [
      "519\n"
     ]
    },
    {
     "name": "stderr",
     "output_type": "stream",
     "text": [
      "/Users/gaoag/.virtualenvs/machinelearning/lib/python3.6/site-packages/IPython/core/interactiveshell.py:3049: DtypeWarning: Columns (0,15) have mixed types. Specify dtype option on import or set low_memory=False.\n",
      "  interactivity=interactivity, compiler=compiler, result=result)\n",
      "/Users/gaoag/.virtualenvs/machinelearning/lib/python3.6/site-packages/IPython/core/interactiveshell.py:3049: DtypeWarning: Columns (0,15,23) have mixed types. Specify dtype option on import or set low_memory=False.\n",
      "  interactivity=interactivity, compiler=compiler, result=result)\n",
      "/Users/gaoag/.virtualenvs/machinelearning/lib/python3.6/site-packages/IPython/core/interactiveshell.py:3049: DtypeWarning: Columns (0) have mixed types. Specify dtype option on import or set low_memory=False.\n",
      "  interactivity=interactivity, compiler=compiler, result=result)\n",
      "/Users/gaoag/.virtualenvs/machinelearning/lib/python3.6/site-packages/IPython/core/interactiveshell.py:3049: DtypeWarning: Columns (0,7,15,23) have mixed types. Specify dtype option on import or set low_memory=False.\n",
      "  interactivity=interactivity, compiler=compiler, result=result)\n"
     ]
    }
   ],
   "source": [
    "# REPEAT THE SAME AT MORE GRANULAR COUNTY LEVEL - NOT FINISHED, NEED COUNTY REFERENCE TABLE FOR STATE FE\n",
    "\n",
    "# COMPILE RELEVANT INDUSTRY OUTCOMES AND PUT INTO A PANEL DATA FORMAT\n",
    "\n",
    "for industry in industries_to_test:\n",
    "    dfs = []\n",
    "    print(industry)\n",
    "    for year in range(1990, 2019):\n",
    "        df = pd.read_csv('./original_data/' + str(year) + '.annual.singlefile.csv')\n",
    "        df = df[['area_fips', 'industry_code', 'lq_annual_avg_estabs', 'lq_annual_avg_emplvl',\n",
    "           'lq_avg_annual_pay', 'annual_avg_estabs', 'annual_avg_emplvl', 'avg_annual_pay']]\n",
    "        df = df[df['area_fips'].astype(str).str.isdigit()]\n",
    "        df = df[df['industry_code'].astype(str).str.contains(pat=\"^\" + industry + \"$\", regex=True, na=False)]\n",
    "        df['year'] = year\n",
    "        dfs.append(df)\n",
    "    master_df = pd.concat(dfs, axis=0)\n",
    "\n",
    "    # now, need to groupby the year+area_fips and sort by year\n",
    "    group = master_df.sort_values(['year'],ascending=True).groupby(['area_fips', 'year'])\n",
    "    master_df = group.agg({'lq_annual_avg_estabs':sum, 'lq_annual_avg_emplvl':sum, 'lq_avg_annual_pay':sum,\n",
    "                           'annual_avg_estabs':sum, 'annual_avg_emplvl':sum, 'avg_annual_pay':sum}).reset_index()\n",
    "    \n",
    "    # add on the state that the MSA is in\n",
    "    merged = pd.merge(master_df, county_ref_table, how='left', on=\"area_fips\")\n",
    "    merged.to_csv(\"panel_\" + industry + \"_county.csv\")"
   ]
  },
  {
   "cell_type": "code",
   "execution_count": 68,
   "metadata": {},
   "outputs": [],
   "source": [
    "outcomes = ['lq_annual_avg_estabs', 'lq_annual_avg_emplvl', 'lq_avg_annual_pay', 'annual_avg_estabs', 'annual_avg_emplvl', 'avg_annual_pay']\n",
    "\n",
    "code_state_pairs = [(('C4194', 'Palo Alto'), 'California'), (('C4174', 'San Diego'), 'California'),\n",
    "   (('C4162', 'Salt Lake City'), 'Utah'), (('C1450', 'Boulder'), 'Colorado'), (('C4266', 'Seattle'), 'Washington'),\n",
    "   (('C3070', 'Lincoln'), 'Nebraska'), (('C2642', 'Houston'), 'Texas'), (('C1146', 'Ann Arbor'), 'Michigan'),\n",
    "   (('C3830', 'Pittsburgh'), 'Pennsylvania'), (('C2706', 'Ithaca'), 'New York'), (('C1206', 'Atlanta'), 'Georgia'),\n",
    "   (('C1446', 'Boston'), 'Massachusetts'), (('C4594', 'Princeton'), 'New Jersey')]\n",
    "\n",
    "for ind in ['511', '512', '515', '516', '517', '518']:\n",
    "    df = pd.read_csv(\"./msa_files/panel_\"+ ind + \"_msa.csv\")\n",
    "    for outcome in outcomes:  \n",
    "        for msa, state in code_state_pairs:\n",
    "            msa_outcome_to_graph = df[df['area_fips'] == msa[0]].set_index('year')[outcome]\n",
    "            avg_outcome_to_graph = df[df['State Name'] == state].groupby('year').agg({outcome: \"mean\"})[outcome]\n",
    "            msa_outcome_to_graph = msa_outcome_to_graph[msa_outcome_to_graph != 0]\n",
    "            plt.figure()\n",
    "            plt.plot(msa_outcome_to_graph, color=\"orange\")\n",
    "            plt.plot(avg_outcome_to_graph, color=\"blue\")\n",
    "            plt.title(msa[1] + \" against average \" + state + \" \" + outcome + \" - sector \" + ind)\n",
    "            plt.savefig('./graphs/' + ind + \"/\" + outcome + \"/\" + msa[1] + \".png\")\n",
    "            plt.close('all')"
   ]
  },
  {
   "cell_type": "code",
   "execution_count": 70,
   "metadata": {},
   "outputs": [],
   "source": [
    "outcomes = ['lq_annual_avg_estabs', 'lq_annual_avg_emplvl', 'lq_avg_annual_pay', 'annual_avg_estabs', 'annual_avg_emplvl', 'avg_annual_pay']\n",
    "\n",
    "code_state_pairs = [(('C4194', 'Palo Alto'), 'California'), (('C4174', 'San Diego'), 'California'),\n",
    "   (('C4162', 'Salt Lake City'), 'Utah'), (('C1450', 'Boulder'), 'Colorado'), (('C4266', 'Seattle'), 'Washington'),\n",
    "   (('C3070', 'Lincoln'), 'Nebraska'), (('C2642', 'Houston'), 'Texas'), (('C1146', 'Ann Arbor'), 'Michigan'),\n",
    "   (('C3830', 'Pittsburgh'), 'Pennsylvania'), (('C2706', 'Ithaca'), 'New York'), (('C1206', 'Atlanta'), 'Georgia'),\n",
    "   (('C1446', 'Boston'), 'Massachusetts'), (('C4594', 'Princeton'), 'New Jersey')]\n",
    "\n",
    "for ind in ['511', '512', '515', '516', '517', '518']:\n",
    "    df = pd.read_csv(\"./msa_files/panel_\"+ ind + \"_msa.csv\")\n",
    "    for outcome in outcomes:  \n",
    "        for msa, state in code_state_pairs:\n",
    "            msa_outcome_to_graph = df[df['area_fips'] == msa[0]].set_index('year')[outcome]\n",
    "            avg_outcome_to_graph = df[df['State Name'] == state].groupby('year').agg({outcome: \"mean\"})[outcome]\n",
    "            msa_outcome_to_graph = msa_outcome_to_graph[msa_outcome_to_graph != 0]\n",
    "            plt.figure()\n",
    "            plt.plot(msa_outcome_to_graph, color=\"orange\")\n",
    "            plt.plot(avg_outcome_to_graph, color=\"blue\")\n",
    "            plt.title(msa[1] + \" against average \" + state + \" \" + outcome + \" - sector \" + ind)\n",
    "            plt.savefig('./graphs/' + ind + \"/\" + outcome + \"/\" + msa[1] + \".png\")\n",
    "            plt.close('all')"
   ]
  },
  {
   "cell_type": "code",
   "execution_count": null,
   "metadata": {},
   "outputs": [],
   "source": []
  }
 ],
 "metadata": {
  "kernelspec": {
   "display_name": "Python 3",
   "language": "python",
   "name": "python3"
  },
  "language_info": {
   "codemirror_mode": {
    "name": "ipython",
    "version": 3
   },
   "file_extension": ".py",
   "mimetype": "text/x-python",
   "name": "python",
   "nbconvert_exporter": "python",
   "pygments_lexer": "ipython3",
   "version": "3.6.5"
  }
 },
 "nbformat": 4,
 "nbformat_minor": 2
}
